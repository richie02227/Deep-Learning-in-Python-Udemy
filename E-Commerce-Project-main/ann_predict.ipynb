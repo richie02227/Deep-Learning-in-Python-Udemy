{
 "cells": [
  {
   "cell_type": "code",
   "execution_count": 2,
   "metadata": {},
   "outputs": [],
   "source": [
    "# E-commerce project using \n",
    "    # logistic K class without training\n",
    "    # logistic K class with training\n",
    "    # NN with training\n",
    "\n",
    "\n",
    "\n",
    "import numpy as np\n",
    "%run process.ipynb"
   ]
  },
  {
   "cell_type": "code",
   "execution_count": 3,
   "metadata": {},
   "outputs": [],
   "source": [
    "# prediction WIHTOUT weight training\n",
    "\n",
    "X,Y = get_data()"
   ]
  },
  {
   "cell_type": "code",
   "execution_count": 5,
   "metadata": {},
   "outputs": [],
   "source": [
    "D = X.shape[1]\n",
    "M = 5\n",
    "K = len(set(Y)) # unique values in Y (classes)\n",
    "\n",
    "# we are using random weights since we dont know how to train them yet\n",
    "W1 = np.random.randn(D,M)\n",
    "b1 = np.random.randn(M)\n",
    "W2 = np.random.randn(M,K)\n",
    "b2 = np.random.randn(K)"
   ]
  },
  {
   "cell_type": "code",
   "execution_count": 28,
   "metadata": {},
   "outputs": [],
   "source": [
    "def softmax(a):\n",
    "    expa = np.exp(a)\n",
    "    Y = expa / expa.sum(axis=1, keepdims=True)\n",
    "    return Y"
   ]
  },
  {
   "cell_type": "code",
   "execution_count": 29,
   "metadata": {},
   "outputs": [],
   "source": [
    "def sigmoid(a):\n",
    "    return 1/(1+np.exp(-a))"
   ]
  },
  {
   "cell_type": "code",
   "execution_count": 30,
   "metadata": {},
   "outputs": [],
   "source": [
    "def forward(X,W1,b1,W2,b2):\n",
    "    Y = np.tanh(X.dot(W1) + b1)\n",
    "    return softmax(Y.dot(W2) + b2)"
   ]
  },
  {
   "cell_type": "code",
   "execution_count": 31,
   "metadata": {},
   "outputs": [],
   "source": [
    "P_Y_given_X = forward(X,W1,b1,W2,b2)\n",
    "P = np.argmax(P_Y_given_X,axis=1)"
   ]
  },
  {
   "cell_type": "code",
   "execution_count": 32,
   "metadata": {},
   "outputs": [],
   "source": [
    "def classification_rate(Y,P):\n",
    "    return np.mean(Y==P)"
   ]
  },
  {
   "cell_type": "code",
   "execution_count": 33,
   "metadata": {},
   "outputs": [
    {
     "name": "stdout",
     "output_type": "stream",
     "text": [
      "classification rate: 0.048\n"
     ]
    }
   ],
   "source": [
    "print(f\"classification rate: {classification_rate(Y,P)}\")"
   ]
  },
  {
   "cell_type": "code",
   "execution_count": null,
   "metadata": {},
   "outputs": [],
   "source": []
  },
  {
   "cell_type": "code",
   "execution_count": null,
   "metadata": {},
   "outputs": [],
   "source": []
  },
  {
   "cell_type": "code",
   "execution_count": null,
   "metadata": {},
   "outputs": [],
   "source": []
  },
  {
   "cell_type": "code",
   "execution_count": null,
   "metadata": {},
   "outputs": [],
   "source": []
  },
  {
   "cell_type": "code",
   "execution_count": 52,
   "metadata": {},
   "outputs": [],
   "source": [
    "# now we will train weights using gradient descent \n",
    "# this is not NN. this is logistic regression with K classes\n",
    "# lets call this logistic softmax train\n",
    "\n",
    "from sklearn.utils import shuffle\n",
    "import matplotlib.pyplot as plt"
   ]
  },
  {
   "cell_type": "code",
   "execution_count": 53,
   "metadata": {},
   "outputs": [],
   "source": [
    "def y2_indicator(Y,K):\n",
    "    N = len(Y)\n",
    "    ind = np.zeros((N,K))\n",
    "    for i in range(N):\n",
    "        ind[i,Y[i]] = 1\n",
    "    \n",
    "    return ind"
   ]
  },
  {
   "cell_type": "code",
   "execution_count": 70,
   "metadata": {},
   "outputs": [
    {
     "name": "stdout",
     "output_type": "stream",
     "text": [
      "(400, 8) (8, 4) (4,)\n"
     ]
    }
   ],
   "source": [
    "X,Y = get_data()\n",
    "X,Y = shuffle(X,Y)\n",
    "Y = Y.astype(np.int32)\n",
    "D = X.shape[1]\n",
    "K = len(set(Y))\n",
    "\n",
    "Xtrain = X[:-100]\n",
    "Ytrain = Y[:-100]\n",
    "Ytrain_ind = y2_indicator(Ytrain,K)\n",
    "\n",
    "Xtest = X[-100:]\n",
    "Ytest = Y[-100:]\n",
    "Ytest_ind = y2_indicator(Ytest,K)\n",
    "\n",
    "# initializing random weights\n",
    "W = np.random.randn(D,K)\n",
    "b = np.zeros(K)\n",
    "\n",
    "print(Xtrain.shape, W.shape, b.shape)"
   ]
  },
  {
   "cell_type": "code",
   "execution_count": 71,
   "metadata": {},
   "outputs": [],
   "source": [
    "def forward_K(X,W,b):\n",
    "    return softmax(X.dot(W)+b)"
   ]
  },
  {
   "cell_type": "code",
   "execution_count": 72,
   "metadata": {},
   "outputs": [],
   "source": [
    "def predict(P_Y_given_X):\n",
    "    return np.argmax(P_Y_given_X,axis=1)"
   ]
  },
  {
   "cell_type": "code",
   "execution_count": 73,
   "metadata": {},
   "outputs": [],
   "source": [
    "def cross_entropy(T,pY):\n",
    "    return -np.mean(T*np.log(pY))"
   ]
  },
  {
   "cell_type": "code",
   "execution_count": 80,
   "metadata": {},
   "outputs": [
    {
     "name": "stdout",
     "output_type": "stream",
     "text": [
      "0 0.0854557711112079 0.06695425490918257\n",
      "1000 0.08544924052815527 0.06694028466342723\n",
      "2000 0.08544367957682991 0.06692672042306874\n",
      "3000 0.08543891518545323 0.06691354417465123\n",
      "4000 0.0854348093175652 0.06690074474151672\n",
      "5000 0.08543125110737426 0.06688831495066111\n",
      "6000 0.08542815093353204 0.06687624978452486\n",
      "7000 0.08542543591017755 0.06686454519330168\n",
      "8000 0.08542304642593511 0.06685319735080669\n",
      "9000 0.0854209334657913 0.06684220220765648\n",
      "train classification rate: 0.9025\n",
      "test classification rate: 0.9\n"
     ]
    }
   ],
   "source": [
    "def logistic_kclass_train(Xtrain,Xtest,Ytrain,Ytrain_ind,Ytest_ind,Ytest,W,b):\n",
    "    train_costs = []\n",
    "    test_costs = []\n",
    "    learning_rate = 0.001\n",
    "\n",
    "    for i in range(10000):\n",
    "        pYtrain = forward_K(Xtrain,W,b)\n",
    "        pYtest = forward_K(Xtest,W,b)\n",
    "\n",
    "        ctrain = cross_entropy(Ytrain_ind,pYtrain)\n",
    "        ctest = cross_entropy(Ytest_ind,pYtest)\n",
    "        train_costs.append(ctrain)\n",
    "        test_costs.append(ctest)\n",
    "\n",
    "        W -= learning_rate*Xtrain.T.dot(pYtrain-Ytrain_ind)\n",
    "        b -= learning_rate*(pYtrain-Ytrain_ind).sum(axis=0)\n",
    "\n",
    "        if i%1000==0:\n",
    "            print(i, ctrain, ctest)\n",
    "\n",
    "    print(f\"train classification rate: {classification_rate(Ytrain,predict(pYtrain))}\")\n",
    "    print(f\"test classification rate: {classification_rate(Ytest,predict(pYtest))}\")\n",
    "\n",
    "    # legend1, = plt.plot(train_costs, label='train cost')\n",
    "    # legend2, = plt.plot(test_costs, label='test cost')\n",
    "    # plt.legend([legend1, legend2])\n",
    "    # plt.show()\n",
    "\n",
    "\n",
    "    # so we see that the accuracy is much better than when the weights\n",
    "    # were not trained. But we still did a little worse than binary \n",
    "    # classification\n",
    "    \n",
    "logistic_kclass_train(Xtrain,Xtest,Ytrain,Ytrain_ind,Ytest_ind,Ytest,W,b)"
   ]
  },
  {
   "cell_type": "code",
   "execution_count": null,
   "metadata": {},
   "outputs": [],
   "source": []
  },
  {
   "cell_type": "code",
   "execution_count": null,
   "metadata": {},
   "outputs": [],
   "source": []
  },
  {
   "cell_type": "code",
   "execution_count": null,
   "metadata": {},
   "outputs": [],
   "source": []
  },
  {
   "cell_type": "code",
   "execution_count": null,
   "metadata": {},
   "outputs": [],
   "source": []
  },
  {
   "cell_type": "code",
   "execution_count": 76,
   "metadata": {},
   "outputs": [],
   "source": [
    "# now we will train a Neural Network to make predictions for our \n",
    "# E-commerce project\n",
    "\n",
    "M = 5 # number of hidden units\n",
    "\n",
    "# we already have train and test sets\n",
    "\n",
    "# initializing weights randomly\n",
    "W1 = np.random.rand(D,M)\n",
    "b1 = np.zeros(M)\n",
    "W2 = np.random.rand(M,K)\n",
    "b2 = np.zeros(K)"
   ]
  },
  {
   "cell_type": "code",
   "execution_count": 77,
   "metadata": {},
   "outputs": [],
   "source": [
    "# we also have to return Y\n",
    "def forward_nn(X,W1,b1,W2,b2):\n",
    "    Y = np.tanh(X.dot(W1) + b1)\n",
    "    return softmax(Y.dot(W2) + b2),Y"
   ]
  },
  {
   "cell_type": "code",
   "execution_count": 86,
   "metadata": {},
   "outputs": [
    {
     "name": "stdout",
     "output_type": "stream",
     "text": [
      "0 0.02484182356844605 0.07509124045364164\n",
      "1000 0.02472697697743325 0.07646035977379734\n",
      "2000 0.024616880504109484 0.0778580746972598\n",
      "3000 0.024508551770181172 0.0793042981018471\n",
      "4000 0.02439800087826988 0.08079689127759059\n",
      "5000 0.024279548263767124 0.08231875030599946\n",
      "6000 0.024143912841937332 0.08386208137790079\n",
      "7000 0.023970381516570095 0.08543102436795642\n",
      "8000 0.023775156440979276 0.08702011973515673\n",
      "9000 0.023638413459328596 0.08855215174280494\n",
      "train classification rate: 0.965\n",
      "test classification rate: 0.91\n"
     ]
    },
    {
     "ename": "TypeError",
     "evalue": "A single argument passed to legend() must be a list of labels, but found an Artist in there.",
     "output_type": "error",
     "traceback": [
      "\u001b[1;31m---------------------------------------------------------------------------\u001b[0m",
      "\u001b[1;31mTypeError\u001b[0m                                 Traceback (most recent call last)",
      "\u001b[1;32m<ipython-input-86-88ff6fafc124>\u001b[0m in \u001b[0;36m<module>\u001b[1;34m\u001b[0m\n\u001b[0;32m     32\u001b[0m     \u001b[0mplt\u001b[0m\u001b[1;33m.\u001b[0m\u001b[0mshow\u001b[0m\u001b[1;33m(\u001b[0m\u001b[1;33m)\u001b[0m\u001b[1;33m\u001b[0m\u001b[1;33m\u001b[0m\u001b[0m\n\u001b[0;32m     33\u001b[0m \u001b[1;33m\u001b[0m\u001b[0m\n\u001b[1;32m---> 34\u001b[1;33m \u001b[0mNN_kclass_train\u001b[0m\u001b[1;33m(\u001b[0m\u001b[0mXtrain\u001b[0m\u001b[1;33m,\u001b[0m\u001b[0mXtest\u001b[0m\u001b[1;33m,\u001b[0m\u001b[0mYtrain\u001b[0m\u001b[1;33m,\u001b[0m\u001b[0mYtrain_ind\u001b[0m\u001b[1;33m,\u001b[0m\u001b[0mYtest_ind\u001b[0m\u001b[1;33m,\u001b[0m\u001b[0mYtest\u001b[0m\u001b[1;33m,\u001b[0m\u001b[0mW1\u001b[0m\u001b[1;33m,\u001b[0m\u001b[0mb1\u001b[0m\u001b[1;33m,\u001b[0m\u001b[0mW2\u001b[0m\u001b[1;33m,\u001b[0m\u001b[0mb2\u001b[0m\u001b[1;33m)\u001b[0m\u001b[1;33m\u001b[0m\u001b[1;33m\u001b[0m\u001b[0m\n\u001b[0m",
      "\u001b[1;32m<ipython-input-86-88ff6fafc124>\u001b[0m in \u001b[0;36mNN_kclass_train\u001b[1;34m(Xtrain, Xtest, Ytrain, Ytrain_ind, Ytest_ind, Ytest, W1, b1, W2, b2)\u001b[0m\n\u001b[0;32m     29\u001b[0m     \u001b[0mlegend1\u001b[0m\u001b[1;33m,\u001b[0m \u001b[1;33m=\u001b[0m \u001b[0mplt\u001b[0m\u001b[1;33m.\u001b[0m\u001b[0mplot\u001b[0m\u001b[1;33m(\u001b[0m\u001b[0mtrain_costs\u001b[0m\u001b[1;33m,\u001b[0m \u001b[0mlabel\u001b[0m\u001b[1;33m=\u001b[0m\u001b[1;34m'train cost'\u001b[0m\u001b[1;33m)\u001b[0m\u001b[1;33m\u001b[0m\u001b[1;33m\u001b[0m\u001b[0m\n\u001b[0;32m     30\u001b[0m     \u001b[0mlegend2\u001b[0m\u001b[1;33m,\u001b[0m \u001b[1;33m=\u001b[0m \u001b[0mplt\u001b[0m\u001b[1;33m.\u001b[0m\u001b[0mplot\u001b[0m\u001b[1;33m(\u001b[0m\u001b[0mtest_costs\u001b[0m\u001b[1;33m,\u001b[0m \u001b[0mlabel\u001b[0m\u001b[1;33m=\u001b[0m\u001b[1;34m'test cost'\u001b[0m\u001b[1;33m)\u001b[0m\u001b[1;33m\u001b[0m\u001b[1;33m\u001b[0m\u001b[0m\n\u001b[1;32m---> 31\u001b[1;33m     \u001b[0mplt\u001b[0m\u001b[1;33m.\u001b[0m\u001b[0mlegend\u001b[0m\u001b[1;33m(\u001b[0m\u001b[1;33m[\u001b[0m\u001b[0mlegend1\u001b[0m\u001b[1;33m,\u001b[0m \u001b[0mlegend2\u001b[0m\u001b[1;33m]\u001b[0m\u001b[1;33m)\u001b[0m\u001b[1;33m\u001b[0m\u001b[1;33m\u001b[0m\u001b[0m\n\u001b[0m\u001b[0;32m     32\u001b[0m     \u001b[0mplt\u001b[0m\u001b[1;33m.\u001b[0m\u001b[0mshow\u001b[0m\u001b[1;33m(\u001b[0m\u001b[1;33m)\u001b[0m\u001b[1;33m\u001b[0m\u001b[1;33m\u001b[0m\u001b[0m\n\u001b[0;32m     33\u001b[0m \u001b[1;33m\u001b[0m\u001b[0m\n",
      "\u001b[1;32mE:\\Anaconda\\lib\\site-packages\\matplotlib\\pyplot.py\u001b[0m in \u001b[0;36mlegend\u001b[1;34m(*args, **kwargs)\u001b[0m\n\u001b[0;32m   2736\u001b[0m \u001b[1;33m@\u001b[0m\u001b[0m_copy_docstring_and_deprecators\u001b[0m\u001b[1;33m(\u001b[0m\u001b[0mAxes\u001b[0m\u001b[1;33m.\u001b[0m\u001b[0mlegend\u001b[0m\u001b[1;33m)\u001b[0m\u001b[1;33m\u001b[0m\u001b[1;33m\u001b[0m\u001b[0m\n\u001b[0;32m   2737\u001b[0m \u001b[1;32mdef\u001b[0m \u001b[0mlegend\u001b[0m\u001b[1;33m(\u001b[0m\u001b[1;33m*\u001b[0m\u001b[0margs\u001b[0m\u001b[1;33m,\u001b[0m \u001b[1;33m**\u001b[0m\u001b[0mkwargs\u001b[0m\u001b[1;33m)\u001b[0m\u001b[1;33m:\u001b[0m\u001b[1;33m\u001b[0m\u001b[1;33m\u001b[0m\u001b[0m\n\u001b[1;32m-> 2738\u001b[1;33m     \u001b[1;32mreturn\u001b[0m \u001b[0mgca\u001b[0m\u001b[1;33m(\u001b[0m\u001b[1;33m)\u001b[0m\u001b[1;33m.\u001b[0m\u001b[0mlegend\u001b[0m\u001b[1;33m(\u001b[0m\u001b[1;33m*\u001b[0m\u001b[0margs\u001b[0m\u001b[1;33m,\u001b[0m \u001b[1;33m**\u001b[0m\u001b[0mkwargs\u001b[0m\u001b[1;33m)\u001b[0m\u001b[1;33m\u001b[0m\u001b[1;33m\u001b[0m\u001b[0m\n\u001b[0m\u001b[0;32m   2739\u001b[0m \u001b[1;33m\u001b[0m\u001b[0m\n\u001b[0;32m   2740\u001b[0m \u001b[1;33m\u001b[0m\u001b[0m\n",
      "\u001b[1;32mE:\\Anaconda\\lib\\site-packages\\matplotlib\\axes\\_axes.py\u001b[0m in \u001b[0;36mlegend\u001b[1;34m(self, *args, **kwargs)\u001b[0m\n\u001b[0;32m    409\u001b[0m         \u001b[1;33m.\u001b[0m\u001b[1;33m.\u001b[0m \u001b[0mplot\u001b[0m\u001b[1;33m:\u001b[0m\u001b[1;33m:\u001b[0m \u001b[0mgallery\u001b[0m\u001b[1;33m/\u001b[0m\u001b[0mtext_labels_and_annotations\u001b[0m\u001b[1;33m/\u001b[0m\u001b[0mlegend\u001b[0m\u001b[1;33m.\u001b[0m\u001b[0mpy\u001b[0m\u001b[1;33m\u001b[0m\u001b[1;33m\u001b[0m\u001b[0m\n\u001b[0;32m    410\u001b[0m         \"\"\"\n\u001b[1;32m--> 411\u001b[1;33m         handles, labels, extra_args, kwargs = mlegend._parse_legend_args(\n\u001b[0m\u001b[0;32m    412\u001b[0m                 \u001b[1;33m[\u001b[0m\u001b[0mself\u001b[0m\u001b[1;33m]\u001b[0m\u001b[1;33m,\u001b[0m\u001b[1;33m\u001b[0m\u001b[1;33m\u001b[0m\u001b[0m\n\u001b[0;32m    413\u001b[0m                 \u001b[1;33m*\u001b[0m\u001b[0margs\u001b[0m\u001b[1;33m,\u001b[0m\u001b[1;33m\u001b[0m\u001b[1;33m\u001b[0m\u001b[0m\n",
      "\u001b[1;32mE:\\Anaconda\\lib\\site-packages\\matplotlib\\legend.py\u001b[0m in \u001b[0;36m_parse_legend_args\u001b[1;34m(axs, handles, labels, *args, **kwargs)\u001b[0m\n\u001b[0;32m   1197\u001b[0m         \u001b[0mlabels\u001b[0m\u001b[1;33m,\u001b[0m \u001b[1;33m=\u001b[0m \u001b[0margs\u001b[0m\u001b[1;33m\u001b[0m\u001b[1;33m\u001b[0m\u001b[0m\n\u001b[0;32m   1198\u001b[0m         \u001b[1;32mif\u001b[0m \u001b[0many\u001b[0m\u001b[1;33m(\u001b[0m\u001b[0misinstance\u001b[0m\u001b[1;33m(\u001b[0m\u001b[0ml\u001b[0m\u001b[1;33m,\u001b[0m \u001b[0mArtist\u001b[0m\u001b[1;33m)\u001b[0m \u001b[1;32mfor\u001b[0m \u001b[0ml\u001b[0m \u001b[1;32min\u001b[0m \u001b[0mlabels\u001b[0m\u001b[1;33m)\u001b[0m\u001b[1;33m:\u001b[0m\u001b[1;33m\u001b[0m\u001b[1;33m\u001b[0m\u001b[0m\n\u001b[1;32m-> 1199\u001b[1;33m             raise TypeError(\"A single argument passed to legend() must be a \"\n\u001b[0m\u001b[0;32m   1200\u001b[0m                             \"list of labels, but found an Artist in there.\")\n\u001b[0;32m   1201\u001b[0m \u001b[1;33m\u001b[0m\u001b[0m\n",
      "\u001b[1;31mTypeError\u001b[0m: A single argument passed to legend() must be a list of labels, but found an Artist in there."
     ]
    },
    {
     "data": {
      "image/png": "[encoded data removed]",
      "text/plain": [
       "<Figure size 432x288 with 1 Axes>"
      ]
     },
     "metadata": {
      "needs_background": "light"
     },
     "output_type": "display_data"
    }
   ],
   "source": [
    "# main train loop\n",
    "\n",
    "def NN_kclass_train(Xtrain,Xtest,Ytrain,Ytrain_ind,Ytest_ind,Ytest,W1,b1,W2,b2):\n",
    "    train_costs = []\n",
    "    test_costs = []\n",
    "    learning_rate = 0.001\n",
    "    \n",
    "    for i in range(10000):\n",
    "        pYtrain, Ztrain = forward_nn(Xtrain,W1,b1,W2,b2)\n",
    "        pYtest, Ztest = forward_nn(Xtest,W1,b1,W2,b2)\n",
    "        \n",
    "        ctrain = cross_entropy(Ytrain_ind,pYtrain)\n",
    "        ctest = cross_entropy(Ytest_ind,pYtest)\n",
    "        train_costs.append(ctrain)\n",
    "        test_costs.append(ctest)\n",
    "        \n",
    "        W2 -= learning_rate*Ztrain.T.dot(pYtrain-Ytrain_ind)\n",
    "        b2 -= learning_rate*(pYtrain-Ytrain_ind).sum()\n",
    "        dz = (pYtrain-Ytrain_ind).dot(W2.T)*(1-Ztrain*Ztrain)\n",
    "        W1 -= learning_rate*(Xtrain.T.dot(dz))\n",
    "        b1 -= learning_rate*dz.sum(axis=0)\n",
    "        \n",
    "        if i%1000==0:\n",
    "            print(i, ctrain, ctest)\n",
    "            \n",
    "    print(f\"train classification rate: {classification_rate(Ytrain,predict(pYtrain))}\")\n",
    "    print(f\"test classification rate: {classification_rate(Ytest,predict(pYtest))}\")\n",
    "    \n",
    "    legend1, = plt.plot(train_costs, label='train cost')\n",
    "    legend2, = plt.plot(test_costs, label='test cost')\n",
    "    plt.legend([legend1, legend2])\n",
    "    plt.show()\n",
    "    \n",
    "NN_kclass_train(Xtrain,Xtest,Ytrain,Ytrain_ind,Ytest_ind,Ytest,W1,b1,W2,b2)"
   ]
  },
  {
   "cell_type": "code",
   "execution_count": null,
   "metadata": {},
   "outputs": [],
   "source": []
  },
  {
   "cell_type": "code",
   "execution_count": null,
   "metadata": {},
   "outputs": [],
   "source": []
  }
 ],
 "metadata": {
  "kernelspec": {
   "display_name": "Python 3",
   "language": "python",
   "name": "python3"
  },
  "language_info": {
   "codemirror_mode": {
    "name": "ipython",
    "version": 3
   },
   "file_extension": ".py",
   "mimetype": "text/x-python",
   "name": "python",
   "nbconvert_exporter": "python",
   "pygments_lexer": "ipython3",
   "version": "3.8.5"
  }
 },
 "nbformat": 4,
 "nbformat_minor": 4
}
