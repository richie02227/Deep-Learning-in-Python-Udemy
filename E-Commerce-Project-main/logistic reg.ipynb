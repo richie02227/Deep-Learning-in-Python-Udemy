{
 "cells": [
  {
   "cell_type": "code",
   "execution_count": 42,
   "metadata": {},
   "outputs": [],
   "source": [
    "import numpy as np\n",
    "import sys\n",
    "%run process.ipynb"
   ]
  },
  {
   "cell_type": "code",
   "execution_count": 43,
   "metadata": {},
   "outputs": [],
   "source": [
    "X,Y = get_binary_data()"
   ]
  },
  {
   "cell_type": "code",
   "execution_count": 44,
   "metadata": {},
   "outputs": [],
   "source": [
    "D = X.shape[1]\n",
    "W = np.random.randn(D)\n",
    "b = 0"
   ]
  },
  {
   "cell_type": "code",
   "execution_count": 45,
   "metadata": {},
   "outputs": [],
   "source": [
    "def sigmoid(z):\n",
    "    return 1/(1+np.exp(-z))"
   ]
  },
  {
   "cell_type": "code",
   "execution_count": 46,
   "metadata": {},
   "outputs": [],
   "source": [
    "def forward(X,W,b):\n",
    "    return sigmoid(X.dot(W)+b)"
   ]
  },
  {
   "cell_type": "code",
   "execution_count": 47,
   "metadata": {},
   "outputs": [],
   "source": [
    "P_Y_given_X = forward(X,W,b)\n",
    "predictions = np.round(P_Y_given_X)"
   ]
  },
  {
   "cell_type": "code",
   "execution_count": 48,
   "metadata": {},
   "outputs": [],
   "source": [
    "# classification rate\n",
    "def classification_rate(Y,preds):\n",
    "    return np.mean(Y==preds)"
   ]
  },
  {
   "cell_type": "code",
   "execution_count": 49,
   "metadata": {},
   "outputs": [
    {
     "name": "stdout",
     "output_type": "stream",
     "text": [
      "0.2185929648241206\n"
     ]
    }
   ],
   "source": [
    "print(classification_rate(Y,predictions))"
   ]
  },
  {
   "cell_type": "code",
   "execution_count": 50,
   "metadata": {},
   "outputs": [],
   "source": [
    "# if we choose the weights randomly then we dont get good accuracy\n",
    "# NEXT \n",
    "# we do the same by training the weights"
   ]
  },
  {
   "cell_type": "code",
   "execution_count": 51,
   "metadata": {},
   "outputs": [],
   "source": [
    "import matplotlib.pyplot as plt\n",
    "from sklearn.utils import shuffle"
   ]
  },
  {
   "cell_type": "code",
   "execution_count": 52,
   "metadata": {},
   "outputs": [],
   "source": [
    "X1,Y1 = get_binary_data()\n",
    "X1,Y1 = shuffle(X1,Y1)"
   ]
  },
  {
   "cell_type": "code",
   "execution_count": 53,
   "metadata": {},
   "outputs": [],
   "source": [
    "X1train = X1[:-100]\n",
    "Y1train = Y1[:-100]\n",
    "X1test = X1[-100:]\n",
    "Y1test = Y1[-100:]"
   ]
  },
  {
   "cell_type": "code",
   "execution_count": 54,
   "metadata": {},
   "outputs": [],
   "source": [
    "D = X1.shape[1]\n",
    "\n",
    "# setting inital weights randomly\n",
    "W = np.random.randn(D)\n",
    "b=0"
   ]
  },
  {
   "cell_type": "code",
   "execution_count": 55,
   "metadata": {},
   "outputs": [],
   "source": [
    "def cross_entropy(T,P_Y_given_X):\n",
    "    return -np.mean(T*np.log(P_Y_given_X) + (1-T)*np.log(1-P_Y_given_X))"
   ]
  },
  {
   "cell_type": "code",
   "execution_count": 62,
   "metadata": {},
   "outputs": [
    {
     "name": "stdout",
     "output_type": "stream",
     "text": [
      "W:  [1.86864219 7.7754294  0.53589749 1.7481228  3.97020791 2.68700405\n",
      " 2.75124511 2.64865565]\n",
      "i : 0, train_cost : 0.16166401787458146, test_cost : 0.27189530253116195\n",
      "W:  [1.7228759  7.25561073 0.45253713 1.61158706 3.85413947 2.67459807\n",
      " 2.8004229  2.7221097 ]\n",
      "i : 1000, train_cost : 0.16046116125649884, test_cost : 0.2637855368845594\n",
      "W:  [1.63112944 7.02375942 0.41800002 1.52537833 3.79775541 2.67236803\n",
      " 2.83114573 2.76944896]\n",
      "i : 2000, train_cost : 0.16018763894218943, test_cost : 0.26106953191628635\n",
      "W:  [1.58756287 6.92139887 0.40309156 1.48433073 3.77420231 2.67297946\n",
      " 2.84415277 2.79044115]\n",
      "i : 3000, train_cost : 0.16013236298225353, test_cost : 0.25998057117580325\n",
      "W:  [1.56842759 6.8775243  0.39673092 1.46622609 3.76453897 2.67344142\n",
      " 2.84957801 2.79938441]\n",
      "i : 4000, train_cost : 0.16012207198078843, test_cost : 0.25953495211989464\n",
      "W:  [1.56027294 6.85900423 0.39404957 1.45849081 3.76055891 2.67365664\n",
      " 2.85183854 2.80314694]\n",
      "i : 5000, train_cost : 0.16012022842490792, test_cost : 0.2593507951986127\n",
      "W:  [1.55684096 6.85124006 0.392926   1.45523098 3.75891084 2.67374858\n",
      " 2.85278052 2.80472177]\n",
      "i : 6000, train_cost : 0.16011990369733592, test_cost : 0.2592743054755683\n",
      "W:  [1.5554041  6.84799467 0.39245644 1.45386529 3.75822601 2.67378709\n",
      " 2.85317317 2.80537955]\n",
      "i : 7000, train_cost : 0.16011984690959075, test_cost : 0.25924246066312884\n",
      "W:  [1.55480385 6.8466398  0.39226043 1.45329459 3.7579409  2.67380315\n",
      " 2.85333687 2.80565405]\n",
      "i : 8000, train_cost : 0.16011983700872265, test_cost : 0.2592291889435118\n",
      "W:  [1.55455332 6.84607448 0.39217865 1.45305636 3.75782208 2.67380985\n",
      " 2.85340514 2.80576857]\n",
      "i : 9000, train_cost : 0.16011983528471016, test_cost : 0.25922365527791535\n",
      "train classification rate :  0.9697986577181208\n",
      "test classification rate :  0.96\n"
     ]
    },
    {
     "data": {
      "image/png": "[encoded data removed]",
      "text/plain": [
       "<Figure size 432x288 with 1 Axes>"
      ]
     },
     "metadata": {
      "needs_background": "light"
     },
     "output_type": "display_data"
    }
   ],
   "source": [
    "# training weights\n",
    "train_cost=[]\n",
    "test_cost=[]\n",
    "learning_rate = 0.001\n",
    "\n",
    "for i in range(10000):\n",
    "    pY1train = forward(X1train,W,b)\n",
    "    pY1test = forward(X1test,W,b)\n",
    "    \n",
    "    cost_train = cross_entropy(Y1train,pY1train)\n",
    "    cost_test = cross_entropy(Y1test,pY1test)\n",
    "    \n",
    "    train_cost.append(cost_train)\n",
    "    test_cost.append(cost_test)\n",
    "    \n",
    "    W -= learning_rate*(X1train).T.dot(pY1train-Y1train)\n",
    "    b -= learning_rate*(pY1train-Y1train).sum()\n",
    "    \n",
    "    if i%1000==0:\n",
    "        print(\"W: \",W)\n",
    "        print(f\"i : {i}, train_cost : {cost_train}, test_cost : {cost_test}\")\n",
    "print(\"train classification rate : \", classification_rate(Y1train,np.round(pY1train)))\n",
    "print(\"test classification rate : \", classification_rate(Y1test,np.round(pY1test)))\n",
    "        \n",
    "legend1 = plt.plot(train_cost,label='train cost')\n",
    "legend2 = plt.plot(test_cost,label='test cost')\n",
    "plt.legend([legend1,legend2])\n",
    "plt.show()\n"
   ]
  },
  {
   "cell_type": "code",
   "execution_count": 57,
   "metadata": {},
   "outputs": [],
   "source": [
    "# now our classification rate is much better after training the \n",
    "# weights and bias"
   ]
  },
  {
   "cell_type": "code",
   "execution_count": null,
   "metadata": {},
   "outputs": [],
   "source": []
  },
  {
   "cell_type": "code",
   "execution_count": null,
   "metadata": {},
   "outputs": [],
   "source": []
  }
 ],
 "metadata": {
  "kernelspec": {
   "display_name": "Python 3",
   "language": "python",
   "name": "python3"
  },
  "language_info": {
   "codemirror_mode": {
    "name": "ipython",
    "version": 3
   },
   "file_extension": ".py",
   "mimetype": "text/x-python",
   "name": "python",
   "nbconvert_exporter": "python",
   "pygments_lexer": "ipython3",
   "version": "3.8.5"
  }
 },
 "nbformat": 4,
 "nbformat_minor": 4
}
