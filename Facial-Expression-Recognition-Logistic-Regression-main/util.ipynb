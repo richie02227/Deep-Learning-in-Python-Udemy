{
 "cells": [
  {
   "cell_type": "code",
   "execution_count": 22,
   "metadata": {},
   "outputs": [],
   "source": [
    "import numpy as np\n",
    "import pandas as pd"
   ]
  },
  {
   "cell_type": "code",
   "execution_count": 23,
   "metadata": {},
   "outputs": [],
   "source": [
    "# M1-->input size, M2-->output size\n",
    "def init_weight_and_bias(M1,M2):\n",
    "    W = np.random.randn(M1,M2) / np.sqrt(M1+M2)\n",
    "    b=0\n",
    "    # return float32 type \n",
    "    return W.astype(np.float32), b.astype(np.float32)"
   ]
  },
  {
   "cell_type": "code",
   "execution_count": 24,
   "metadata": {},
   "outputs": [],
   "source": [
    "# used for convolutional neural network\n",
    "# shape--> tuple of 4 values\n",
    "def init_filter(shape,poolsz):\n",
    "    w = np.random.randn(*shapee) / np.sqrt(np.prod(shape[1:]) + shape[0]*np.prod(shae[2:] / np.prod(poolsz)))\n",
    "    return w.astype(np.float32)"
   ]
  },
  {
   "cell_type": "code",
   "execution_count": 25,
   "metadata": {},
   "outputs": [],
   "source": [
    "def relu(x):\n",
    "    return x*(x>0)"
   ]
  },
  {
   "cell_type": "code",
   "execution_count": 26,
   "metadata": {},
   "outputs": [],
   "source": [
    "def sigmoid(x):\n",
    "    return 1/(1+np.exp(-x))"
   ]
  },
  {
   "cell_type": "code",
   "execution_count": 27,
   "metadata": {},
   "outputs": [],
   "source": [
    "def softmax(x):\n",
    "    expA = np.exp(A)\n",
    "    return expA/expA.sum(axis=1, keepdims=True)"
   ]
  },
  {
   "cell_type": "code",
   "execution_count": 28,
   "metadata": {},
   "outputs": [],
   "source": [
    "def sigmoid_cost(T,Y):\n",
    "    return -(T*np.log(Y) + (1-T)*np.log(1-Y)).sum()"
   ]
  },
  {
   "cell_type": "code",
   "execution_count": 29,
   "metadata": {},
   "outputs": [],
   "source": [
    "# more general cross entropy function, this will work for softmax\n",
    "def cost(T,Y):\n",
    "    return -(T*np.log(Y)).sum()"
   ]
  },
  {
   "cell_type": "code",
   "execution_count": 30,
   "metadata": {},
   "outputs": [],
   "source": [
    "def error_rate(targets, predictions):\n",
    "    return np.mean(targets!=predictions)"
   ]
  },
  {
   "cell_type": "code",
   "execution_count": 31,
   "metadata": {},
   "outputs": [],
   "source": [
    "# turns NX1 target matrix into NXK matrix where K is no of classes\n",
    "def y2indicator(y):\n",
    "    N=len(y)\n",
    "    K=len(set(y))\n",
    "    ind = np.zeros((N,K))\n",
    "    \n",
    "    for i in range(N):\n",
    "        ind[i,y[i]] = 1\n",
    "        \n",
    "    return ind"
   ]
  },
  {
   "cell_type": "code",
   "execution_count": 32,
   "metadata": {},
   "outputs": [],
   "source": [
    "def getData(balance_ones=True):\n",
    "    X=[]\n",
    "    Y=[]\n",
    "    first = True\n",
    "    \n",
    "    for line in open('fer2013/fer2013.csv'):\n",
    "        # first line is headers so exclude that\n",
    "        if first:\n",
    "            first = False\n",
    "        else:\n",
    "            row = line.split(',')\n",
    "            Y.append(int(row[0]))\n",
    "            X.append([int(p) for p in row[1].split()])\n",
    "       \n",
    "    # convert to array and normalize data\n",
    "    X,Y = np.array(X) / 255.0, np.array(Y) \n",
    "    \n",
    "    if balance_ones:\n",
    "        # balance class 1 by lenthning it (repeating it 9 times)\n",
    "        X0,Y0 = X[Y!=1,:], Y[Y!=1]\n",
    "        X1 = X[Y==1,:]\n",
    "        X1 = np.repeat(X1,9,axis=0)\n",
    "        X = np.vstack([X0,X1])\n",
    "        Y = np.concatenate((Y0,[1]*len(X1)))\n",
    "        \n",
    "    return X,Y"
   ]
  },
  {
   "cell_type": "code",
   "execution_count": 33,
   "metadata": {},
   "outputs": [],
   "source": [
    "# keeps original image shape\n",
    "def getImageData():\n",
    "    X,Y = getData()\n",
    "    N,D = X.shape\n",
    "    d = int(np.sqrt(D))\n",
    "    X = X.reshape(N,1,d,d)\n",
    "    return X,Y\n"
   ]
  },
  {
   "cell_type": "code",
   "execution_count": 34,
   "metadata": {},
   "outputs": [],
   "source": [
    "def getBinaryData():\n",
    "    X=[]\n",
    "    Y=[]\n",
    "    first = True\n",
    "    \n",
    "    for line in open('fer2013/fer2013.csv'):\n",
    "        # first line is headers so exclude that\n",
    "        if first:\n",
    "            first = False\n",
    "        else:\n",
    "            row = line.split(',')\n",
    "            y = int(row[0])\n",
    "            if y==0 or y==1:\n",
    "                Y.append(y)\n",
    "                X.append([int(p) for p in row[1].split()])\n",
    "                \n",
    "    print(X)\n",
    "    return np.array(X)/255.0, np.array(Y)"
   ]
  },
  {
   "cell_type": "code",
   "execution_count": 21,
   "metadata": {},
   "outputs": [
    {
     "data": {
      "text/plain": [
       "array([[0.2745098 , 0.31372549, 0.32156863, ..., 0.41568627, 0.42745098,\n",
       "        0.32156863],\n",
       "       [0.59215686, 0.58823529, 0.57647059, ..., 0.75686275, 0.71764706,\n",
       "        0.72156863],\n",
       "       [0.90588235, 0.83137255, 0.61176471, ..., 0.34509804, 0.43137255,\n",
       "        0.59607843],\n",
       "       ...,\n",
       "       [0.22745098, 0.3254902 , 0.38039216, ..., 0.38431373, 0.0745098 ,\n",
       "        0.07058824],\n",
       "       [0.22745098, 0.3254902 , 0.38039216, ..., 0.38431373, 0.0745098 ,\n",
       "        0.07058824],\n",
       "       [0.22745098, 0.3254902 , 0.38039216, ..., 0.38431373, 0.0745098 ,\n",
       "        0.07058824]])"
      ]
     },
     "execution_count": 21,
     "metadata": {},
     "output_type": "execute_result"
    }
   ],
   "source": []
  },
  {
   "cell_type": "code",
   "execution_count": null,
   "metadata": {},
   "outputs": [],
   "source": []
  },
  {
   "cell_type": "code",
   "execution_count": 17,
   "metadata": {},
   "outputs": [],
   "source": []
  },
  {
   "cell_type": "code",
   "execution_count": null,
   "metadata": {},
   "outputs": [],
   "source": []
  }
 ],
 "metadata": {
  "kernelspec": {
   "display_name": "Python 3",
   "language": "python",
   "name": "python3"
  },
  "language_info": {
   "codemirror_mode": {
    "name": "ipython",
    "version": 3
   },
   "file_extension": ".py",
   "mimetype": "text/x-python",
   "name": "python",
   "nbconvert_exporter": "python",
   "pygments_lexer": "ipython3",
   "version": "3.8.5"
  }
 },
 "nbformat": 4,
 "nbformat_minor": 4
}
