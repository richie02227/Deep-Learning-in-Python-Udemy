{
 "cells": [
  {
   "cell_type": "code",
   "execution_count": 1,
   "metadata": {},
   "outputs": [],
   "source": [
    "# Facial Recognition Project\n",
    "# Logistic regression using softmax for K classes\n",
    "\n",
    "import numpy as np\n",
    "import matplotlib.pyplot as plt\n",
    "from sklearn.utils import shuffle\n",
    "%run util.ipynb"
   ]
  },
  {
   "cell_type": "code",
   "execution_count": 2,
   "metadata": {},
   "outputs": [],
   "source": [
    "class LogisticModel(object):\n",
    "    def __init__(self):\n",
    "        pass\n",
    "    \n",
    "    def fit(self,X,Y,learning_rate=10e-8, reg=10e-12, epochs=10000, show_fig=False):\n",
    "        X,Y = shuffle(X,Y)\n",
    "        Xvalid, Yvalid = X[-1000:], Y[-1000:]\n",
    "        Tvalid = y2indicator(Yvalid)\n",
    "        X,Y = X[:-1000], Y[:-1000]\n",
    "        \n",
    "        N,D = X.shape\n",
    "        K = len(set(Y))\n",
    "        T = y2indicator(Y)\n",
    "        self.W = np.random.randn(D,K) / np.sqrt(D)\n",
    "        self.b = np.zeros(K)\n",
    "        \n",
    "        costs = []\n",
    "        best_validation_error = 1\n",
    "        \n",
    "        for i in range(epochs):\n",
    "            pY = self.forward(X)\n",
    "            \n",
    "            # gradient descent step\n",
    "            self.W -= learning_rate*(X.T.dot(pY-T) + reg*self.W)\n",
    "            self.b -= learning_rate*((pY-T).sum(axis=0) + reg*self.b)\n",
    "            \n",
    "            if i%10==0:\n",
    "                pYvalid = self.forward(Xvalid)\n",
    "                c = cost(Tvalid,pYvalid)\n",
    "                costs.append(c)\n",
    "                e = error_rate(Yvalid, np.argmax(pYvalid,axis=1))\n",
    "                if e < best_validation_error:\n",
    "                    best_validation_error = e\n",
    "                    \n",
    "        print(\"best validation error: \", best_validation_error)\n",
    "        \n",
    "        if show_fig:\n",
    "            plt.plot(costs)\n",
    "            plt.show()\n",
    "            \n",
    "    def forward(self,X):\n",
    "        return softmax(X.dot(self.W) + self.b)\n",
    "    \n",
    "    def predict(self,X):\n",
    "        pY = forward(X)\n",
    "        return (np.argmax(pY,axis=1))\n",
    "    \n",
    "    def score(self,X,Y):\n",
    "        prediction = predict(X)\n",
    "        return 1-error_rate(Y,prediction)\n",
    "    \n",
    "    \n",
    "    "
   ]
  },
  {
   "cell_type": "code",
   "execution_count": null,
   "metadata": {},
   "outputs": [],
   "source": [
    "def main():\n",
    "    X,Y = getData()\n",
    "    \n",
    "    model = LogisticModel()\n",
    "    model.fit(X,Y,show_fig=True)\n",
    "    print(model.score(X,Y))\n",
    "    \n",
    "if __name__ == '__main__':\n",
    "    main()"
   ]
  },
  {
   "cell_type": "code",
   "execution_count": null,
   "metadata": {},
   "outputs": [],
   "source": []
  }
 ],
 "metadata": {
  "kernelspec": {
   "display_name": "Python 3",
   "language": "python",
   "name": "python3"
  },
  "language_info": {
   "codemirror_mode": {
    "name": "ipython",
    "version": 3
   },
   "file_extension": ".py",
   "mimetype": "text/x-python",
   "name": "python",
   "nbconvert_exporter": "python",
   "pygments_lexer": "ipython3",
   "version": "3.8.5"
  }
 },
 "nbformat": 4,
 "nbformat_minor": 4
}
